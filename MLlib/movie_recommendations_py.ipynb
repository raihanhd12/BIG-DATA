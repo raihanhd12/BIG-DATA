{
  "nbformat": 4,
  "nbformat_minor": 0,
  "metadata": {
    "colab": {
      "provenance": [],
      "gpuType": "T4",
      "authorship_tag": "ABX9TyMTnOu6iYy4q9fesQOOJJxK",
      "include_colab_link": true
    },
    "kernelspec": {
      "name": "python3",
      "display_name": "Python 3"
    },
    "language_info": {
      "name": "python"
    },
    "accelerator": "GPU"
  },
  "cells": [
    {
      "cell_type": "markdown",
      "metadata": {
        "id": "view-in-github",
        "colab_type": "text"
      },
      "source": [
        "<a href=\"https://colab.research.google.com/github/raihanhd12/BIG-DATA/blob/main/MLlib/movie_recommendations_py.ipynb\" target=\"_parent\"><img src=\"https://colab.research.google.com/assets/colab-badge.svg\" alt=\"Open In Colab\"/></a>"
      ]
    },
    {
      "cell_type": "code",
      "source": [
        "from google.colab import drive\n",
        "drive.mount('/content/drive')"
      ],
      "metadata": {
        "colab": {
          "base_uri": "https://localhost:8080/"
        },
        "id": "_NYQCMJfrKP9",
        "outputId": "72b051af-25c6-4c12-e7b9-25885e5ee921"
      },
      "execution_count": 1,
      "outputs": [
        {
          "output_type": "stream",
          "name": "stdout",
          "text": [
            "Drive already mounted at /content/drive; to attempt to forcibly remount, call drive.mount(\"/content/drive\", force_remount=True).\n"
          ]
        }
      ]
    },
    {
      "cell_type": "code",
      "source": [
        "!pip install pyspark"
      ],
      "metadata": {
        "colab": {
          "base_uri": "https://localhost:8080/"
        },
        "id": "gsQmXXw5rlNf",
        "outputId": "f776fed6-d0df-400c-df55-f8a9ab26815c"
      },
      "execution_count": 2,
      "outputs": [
        {
          "output_type": "stream",
          "name": "stdout",
          "text": [
            "Looking in indexes: https://pypi.org/simple, https://us-python.pkg.dev/colab-wheels/public/simple/\n",
            "Requirement already satisfied: pyspark in /usr/local/lib/python3.10/dist-packages (3.4.0)\n",
            "Requirement already satisfied: py4j==0.10.9.7 in /usr/local/lib/python3.10/dist-packages (from pyspark) (0.10.9.7)\n"
          ]
        }
      ]
    },
    {
      "cell_type": "code",
      "source": [
        "import os\n",
        "os.system(\"rm -rf /content/ml-predictions.csv\")\n",
        "os.system(\"rm -rf /content/mymodel\")"
      ],
      "metadata": {
        "colab": {
          "base_uri": "https://localhost:8080/"
        },
        "id": "ow6BOOOys5M5",
        "outputId": "36cf1cea-422c-4c85-c948-66a88ce75c6d"
      },
      "execution_count": 3,
      "outputs": [
        {
          "output_type": "execute_result",
          "data": {
            "text/plain": [
              "0"
            ]
          },
          "metadata": {},
          "execution_count": 3
        }
      ]
    },
    {
      "cell_type": "code",
      "execution_count": 6,
      "metadata": {
        "colab": {
          "base_uri": "https://localhost:8080/"
        },
        "id": "duEvQ1HkrBgJ",
        "outputId": "1cc2ae51-3335-4aa1-e9ee-058fc6cb09ba"
      },
      "outputs": [
        {
          "output_type": "stream",
          "name": "stdout",
          "text": [
            "+------+-------+------+---------+----------+\n",
            "|userId|movieId|rating|timestamp|prediction|\n",
            "+------+-------+------+---------+----------+\n",
            "|   148|      1|   5.0|977335193|  4.414916|\n",
            "|   148|    161|   4.0|977352828| 3.9896765|\n",
            "|   148|    208|   3.0|979578513| 3.1200483|\n",
            "|   148|    361|   4.0|979577717|  3.772702|\n",
            "|   148|    370|   4.0|979578765| 3.7175312|\n",
            "|   148|    377|   4.0|977333369| 4.1809597|\n",
            "|   148|    379|   5.0|977333890| 3.7085142|\n",
            "|   148|    405|   2.0|977334427|  2.603137|\n",
            "|   148|    419|   3.0|979579310|  3.452846|\n",
            "|   148|    432|   3.0|979578996| 3.3927321|\n",
            "|   148|    434|   4.0|977333974|  3.810626|\n",
            "|   148|    459|   3.0|977334058| 2.6473405|\n",
            "|   148|    468|   4.0|979577829| 3.3463068|\n",
            "|   148|    508|   2.0|977352900| 3.8614523|\n",
            "|   148|    520|   3.0|979579013| 3.8286252|\n",
            "|   148|    575|   4.0|979578545| 3.8676314|\n",
            "|   148|    589|   5.0|977333311|  4.277261|\n",
            "|   148|    594|   4.0|979575755|  4.054224|\n",
            "|   148|    653|   3.0|977333786|  3.955575|\n",
            "|   148|    688|   3.0|977334003| 3.1884606|\n",
            "+------+-------+------+---------+----------+\n",
            "only showing top 20 rows\n",
            "\n",
            "RMSE:  0.89913360186371\n",
            "MSE:  0.8084412340001288\n"
          ]
        }
      ],
      "source": [
        "from pyspark.sql import SparkSession\n",
        "from pyspark.ml.evaluation import RegressionEvaluator\n",
        "from pyspark.ml.recommendation import ALS\n",
        "from pyspark.sql import Row\n",
        "\n",
        "# Create a SparkSession\n",
        "spark = SparkSession.builder.getOrCreate()\n",
        "\n",
        "# Read the ratings data from a file\n",
        "lines = spark.read.text(\"/content/drive/MyDrive/Kuliah/Semester 6/Big Data/ml-1m/ratings.dat\").rdd\n",
        "\n",
        "# Split each line into fields and create a Row object\n",
        "parts = lines.map(lambda row: row.value.split(\"::\"))\n",
        "ratingsRDD = parts.map(lambda p: Row(userId=int(p[0]), movieId=int(p[1]), rating=float(p[2]), timestamp=int(p[3])))\n",
        "\n",
        "# Create a DataFrame from the RDD\n",
        "ratings = spark.createDataFrame(ratingsRDD)\n",
        "\n",
        "# Split the data into training and test sets\n",
        "(training, test) = ratings.randomSplit([0.8, 0.2])\n",
        "\n",
        "# Build the recommendation model using ALS on the training data\n",
        "als = ALS(maxIter=5, regParam=0.01, userCol=\"userId\", itemCol=\"movieId\", ratingCol=\"rating\", coldStartStrategy=\"drop\")\n",
        "model = als.fit(training)\n",
        "\n",
        "# Evaluate the model by computing the RMSE on the test data\n",
        "predictions = model.transform(test)\n",
        "predictions.show()\n",
        "\n",
        "# Calculate the RMSE\n",
        "evaluator = RegressionEvaluator(metricName=\"rmse\", labelCol=\"rating\", predictionCol=\"prediction\")\n",
        "rmse = evaluator.evaluate(predictions)\n",
        "print(\"RMSE: \", rmse)\n",
        "\n",
        "# Calculate the MSE\n",
        "mse = predictions.rdd.map(lambda row: (row['rating'] - row['prediction'])**2).mean()\n",
        "print(\"MSE: \", mse)"
      ]
    }
  ]
}