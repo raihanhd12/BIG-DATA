{
  "nbformat": 4,
  "nbformat_minor": 0,
  "metadata": {
    "colab": {
      "provenance": [],
      "authorship_tag": "ABX9TyOb7iqG4FyukXGUh2jiV5LF",
      "include_colab_link": true
    },
    "kernelspec": {
      "name": "python3",
      "display_name": "Python 3"
    },
    "language_info": {
      "name": "python"
    }
  },
  "cells": [
    {
      "cell_type": "markdown",
      "metadata": {
        "id": "view-in-github",
        "colab_type": "text"
      },
      "source": [
        "<a href=\"https://colab.research.google.com/github/raihanhd12/BIG-DATA/blob/main/MLlib/Slide49.ipynb\" target=\"_parent\"><img src=\"https://colab.research.google.com/assets/colab-badge.svg\" alt=\"Open In Colab\"/></a>"
      ]
    },
    {
      "cell_type": "code",
      "execution_count": 1,
      "metadata": {
        "colab": {
          "base_uri": "https://localhost:8080/"
        },
        "id": "ZFp7UAFf7EUB",
        "outputId": "1fc0037a-b321-4c67-8a57-934a52ba2801"
      },
      "outputs": [
        {
          "output_type": "stream",
          "name": "stdout",
          "text": [
            "Drive already mounted at /content/drive; to attempt to forcibly remount, call drive.mount(\"/content/drive\", force_remount=True).\n"
          ]
        }
      ],
      "source": [
        "from google.colab import drive\n",
        "drive.mount('/content/drive')"
      ]
    },
    {
      "cell_type": "code",
      "source": [
        "!pip install pyspark"
      ],
      "metadata": {
        "colab": {
          "base_uri": "https://localhost:8080/"
        },
        "id": "z6nmkQs87N6G",
        "outputId": "a9df1e00-37b4-4f77-fba3-df73deb6a3de"
      },
      "execution_count": 2,
      "outputs": [
        {
          "output_type": "stream",
          "name": "stdout",
          "text": [
            "Looking in indexes: https://pypi.org/simple, https://us-python.pkg.dev/colab-wheels/public/simple/\n",
            "Requirement already satisfied: pyspark in /usr/local/lib/python3.10/dist-packages (3.4.0)\n",
            "Requirement already satisfied: py4j==0.10.9.7 in /usr/local/lib/python3.10/dist-packages (from pyspark) (0.10.9.7)\n"
          ]
        }
      ]
    },
    {
      "cell_type": "code",
      "source": [
        "from pyspark.sql import SparkSession\n",
        "from pyspark.mllib.stat import Statistics\n",
        "from pyspark.mllib.linalg import Vectors\n",
        "\n",
        "# Create a SparkSession\n",
        "spark = SparkSession.builder.master(\"local[*]\").getOrCreate()\n",
        "\n",
        "# Create a SparkContext\n",
        "sc = spark.sparkContext\n",
        "\n",
        "# Create an RDD of Vectors\n",
        "mat = sc.parallelize([\n",
        "    Vectors.dense([1.0, 2.0, 3.0]),\n",
        "    Vectors.dense([4.0, 5.0, 6.0]),\n",
        "    Vectors.dense([7.0, 8.0, 9.0])\n",
        "])\n",
        "\n",
        "# Compute column summary statistics\n",
        "summary = Statistics.colStats(mat)\n",
        "print(\"Mean:\", summary.mean())\n",
        "print(\"Variance:\", summary.variance())\n",
        "print(\"Nonzeros:\", summary.numNonzeros())"
      ],
      "metadata": {
        "colab": {
          "base_uri": "https://localhost:8080/"
        },
        "id": "7shT2s9I7af1",
        "outputId": "f3048200-a0e3-4502-9b83-7d4b13ab26f9"
      },
      "execution_count": 4,
      "outputs": [
        {
          "output_type": "stream",
          "name": "stdout",
          "text": [
            "Mean: [4. 5. 6.]\n",
            "Variance: [9. 9. 9.]\n",
            "Nonzeros: [3. 3. 3.]\n"
          ]
        }
      ]
    },
    {
      "cell_type": "code",
      "source": [],
      "metadata": {
        "id": "-tibmP1HB7hA"
      },
      "execution_count": null,
      "outputs": []
    }
  ]
}