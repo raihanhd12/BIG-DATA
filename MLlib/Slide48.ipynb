{
  "nbformat": 4,
  "nbformat_minor": 0,
  "metadata": {
    "colab": {
      "provenance": [],
      "authorship_tag": "ABX9TyNTvHgLrQRqw3cbLMxqNy0j",
      "include_colab_link": true
    },
    "kernelspec": {
      "name": "python3",
      "display_name": "Python 3"
    },
    "language_info": {
      "name": "python"
    }
  },
  "cells": [
    {
      "cell_type": "markdown",
      "metadata": {
        "id": "view-in-github",
        "colab_type": "text"
      },
      "source": [
        "<a href=\"https://colab.research.google.com/github/raihanhd12/BIG-DATA/blob/main/MLlib/Slide48.ipynb\" target=\"_parent\"><img src=\"https://colab.research.google.com/assets/colab-badge.svg\" alt=\"Open In Colab\"/></a>"
      ]
    },
    {
      "cell_type": "code",
      "execution_count": 1,
      "metadata": {
        "colab": {
          "base_uri": "https://localhost:8080/"
        },
        "id": "ZFp7UAFf7EUB",
        "outputId": "1fc0037a-b321-4c67-8a57-934a52ba2801"
      },
      "outputs": [
        {
          "output_type": "stream",
          "name": "stdout",
          "text": [
            "Drive already mounted at /content/drive; to attempt to forcibly remount, call drive.mount(\"/content/drive\", force_remount=True).\n"
          ]
        }
      ],
      "source": [
        "from google.colab import drive\n",
        "drive.mount('/content/drive')"
      ]
    },
    {
      "cell_type": "code",
      "source": [
        "!pip install pyspark"
      ],
      "metadata": {
        "colab": {
          "base_uri": "https://localhost:8080/"
        },
        "id": "z6nmkQs87N6G",
        "outputId": "a9df1e00-37b4-4f77-fba3-df73deb6a3de"
      },
      "execution_count": 2,
      "outputs": [
        {
          "output_type": "stream",
          "name": "stdout",
          "text": [
            "Looking in indexes: https://pypi.org/simple, https://us-python.pkg.dev/colab-wheels/public/simple/\n",
            "Requirement already satisfied: pyspark in /usr/local/lib/python3.10/dist-packages (3.4.0)\n",
            "Requirement already satisfied: py4j==0.10.9.7 in /usr/local/lib/python3.10/dist-packages (from pyspark) (0.10.9.7)\n"
          ]
        }
      ]
    },
    {
      "cell_type": "code",
      "source": [
        "from tabulate import tabulate\n",
        "from pyspark.mllib.recommendation import ALS, Rating\n",
        "from pyspark.sql import SparkSession\n",
        "\n",
        "# Create a SparkSession\n",
        "spark = SparkSession.builder.getOrCreate()\n",
        "\n",
        "# Read the ratings data from a file\n",
        "raw = spark.sparkContext.textFile(\"/content/drive/MyDrive/Kuliah/Semester 6/Big Data/ml-1m/ratings.dat\")\n",
        "mydata = [(2, 0.01), (3, 0.02), (4, 0.03)]\n",
        "mydatardd = spark.sparkContext.parallelize(mydata).map(lambda x: Rating(0, x[0], x[1]))\n",
        "\n",
        "# Define a function to parse the rating data\n",
        "def parseRating(str):\n",
        "    fields = str.split(\"::\")\n",
        "    assert len(fields) == 4\n",
        "    return Rating(int(fields[0]), int(fields[1]), float(fields[2]))\n",
        "\n",
        "# Parse the rating data\n",
        "ratings = raw.map(parseRating)\n",
        "totalRatings = ratings.union(mydatardd)\n",
        "\n",
        "# Train the ALS model\n",
        "rank = 8\n",
        "numIterations = 5\n",
        "lambda_ = 1.0\n",
        "model = ALS.train(totalRatings, rank, numIterations, lambda_)\n",
        "\n",
        "# Get the top 10 recommended products for user 1\n",
        "userId = 1\n",
        "numRecommendations = 10\n",
        "products = model.recommendProducts(userId, numRecommendations)\n",
        "\n",
        "# Convert the products list to an RDD\n",
        "productsRDD = spark.sparkContext.parallelize(products)\n",
        "\n",
        "# Load movie data, join with the recommendations, and display the names ordered by ratings\n",
        "movies = spark.read.text(\"/content/drive/MyDrive/Kuliah/Semester 6/Big Data/ml-1m/movies.dat\")\n",
        "movieNames = movies.rdd.map(lambda line: line.value.split(\"::\")).map(lambda fields: (int(fields[0]), fields[1]))\n",
        "recommendations = productsRDD.map(lambda rating: (rating.product, rating.rating))\n",
        "movieRecommendations = movieNames.join(recommendations).sortBy(lambda x: -x[1][1])\n",
        "\n",
        "# Prepare the data for tabular display\n",
        "table_data = [(movie_id, movie_title, rating) for movie_id, (movie_title, rating) in movieRecommendations.take(10)]\n",
        "\n",
        "# Display the recommendations in a table\n",
        "headers = [\"Movie ID\", \"Title\", \"Rating\"]\n",
        "table = tabulate(table_data, headers, tablefmt=\"grid\")\n",
        "print(table)"
      ],
      "metadata": {
        "colab": {
          "base_uri": "https://localhost:8080/"
        },
        "id": "7shT2s9I7af1",
        "outputId": "fa2895f4-552b-41f8-b162-36e8eec27a2d"
      },
      "execution_count": 3,
      "outputs": [
        {
          "output_type": "stream",
          "name": "stdout",
          "text": [
            "+------------+-------------------------------------------+----------+\n",
            "|   Movie ID | Title                                     |   Rating |\n",
            "+============+===========================================+==========+\n",
            "|       3382 | Song of Freedom (1936)                    |  4.4648  |\n",
            "+------------+-------------------------------------------+----------+\n",
            "|        989 | Schlafes Bruder (Brother of Sleep) (1995) |  4.01462 |\n",
            "+------------+-------------------------------------------+----------+\n",
            "|        557 | Mamma Roma (1962)                         |  3.90126 |\n",
            "+------------+-------------------------------------------+----------+\n",
            "|        787 | Gate of Heavenly Peace, The (1995)        |  3.89256 |\n",
            "+------------+-------------------------------------------+----------+\n",
            "|       1830 | Follow the Bitch (1998)                   |  3.89208 |\n",
            "+------------+-------------------------------------------+----------+\n",
            "|       3233 | Smashing Time (1967)                      |  3.89041 |\n",
            "+------------+-------------------------------------------+----------+\n",
            "|       3607 | One Little Indian (1973)                  |  3.83894 |\n",
            "+------------+-------------------------------------------+----------+\n",
            "|       3172 | Ulysses (Ulisse) (1954)                   |  3.81523 |\n",
            "+------------+-------------------------------------------+----------+\n",
            "|       2503 | Apple, The (Sib) (1998)                   |  3.78249 |\n",
            "+------------+-------------------------------------------+----------+\n",
            "|       3656 | Lured (1947)                              |  3.78131 |\n",
            "+------------+-------------------------------------------+----------+\n"
          ]
        }
      ]
    }
  ]
}