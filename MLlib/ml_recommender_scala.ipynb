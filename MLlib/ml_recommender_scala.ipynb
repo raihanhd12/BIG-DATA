{
  "nbformat": 4,
  "nbformat_minor": 0,
  "metadata": {
    "colab": {
      "provenance": [],
      "gpuType": "T4",
      "authorship_tag": "ABX9TyPXlBKzqb8nnRh9gLz5o8gJ",
      "include_colab_link": true
    },
    "kernelspec": {
      "name": "python3",
      "display_name": "Python 3"
    },
    "language_info": {
      "name": "python"
    },
    "accelerator": "GPU"
  },
  "cells": [
    {
      "cell_type": "markdown",
      "metadata": {
        "id": "view-in-github",
        "colab_type": "text"
      },
      "source": [
        "<a href=\"https://colab.research.google.com/github/raihanhd12/BIG-DATA/blob/main/MLlib/ml_recommender_scala.ipynb\" target=\"_parent\"><img src=\"https://colab.research.google.com/assets/colab-badge.svg\" alt=\"Open In Colab\"/></a>"
      ]
    },
    {
      "cell_type": "code",
      "source": [
        "from google.colab import drive\n",
        "drive.mount('/content/drive')"
      ],
      "metadata": {
        "colab": {
          "base_uri": "https://localhost:8080/"
        },
        "id": "_NYQCMJfrKP9",
        "outputId": "5e6c6f8e-7527-498d-b514-7fce83ebad48"
      },
      "execution_count": 1,
      "outputs": [
        {
          "output_type": "stream",
          "name": "stdout",
          "text": [
            "Drive already mounted at /content/drive; to attempt to forcibly remount, call drive.mount(\"/content/drive\", force_remount=True).\n"
          ]
        }
      ]
    },
    {
      "cell_type": "code",
      "source": [
        "!pip install pyspark"
      ],
      "metadata": {
        "colab": {
          "base_uri": "https://localhost:8080/"
        },
        "id": "gsQmXXw5rlNf",
        "outputId": "04649bfc-be96-4029-96ed-816c491d7497"
      },
      "execution_count": 2,
      "outputs": [
        {
          "output_type": "stream",
          "name": "stdout",
          "text": [
            "Looking in indexes: https://pypi.org/simple, https://us-python.pkg.dev/colab-wheels/public/simple/\n",
            "Requirement already satisfied: pyspark in /usr/local/lib/python3.10/dist-packages (3.4.0)\n",
            "Requirement already satisfied: py4j==0.10.9.7 in /usr/local/lib/python3.10/dist-packages (from pyspark) (0.10.9.7)\n"
          ]
        }
      ]
    },
    {
      "cell_type": "code",
      "source": [
        "import os\n",
        "os.system(\"rm -rf /content/ml-predictions.csv\")\n",
        "os.system(\"rm -rf /content/mymodel\")"
      ],
      "metadata": {
        "colab": {
          "base_uri": "https://localhost:8080/"
        },
        "id": "ow6BOOOys5M5",
        "outputId": "ced0cc41-06ab-4bca-e201-3e7674b5c5f5"
      },
      "execution_count": 3,
      "outputs": [
        {
          "output_type": "execute_result",
          "data": {
            "text/plain": [
              "0"
            ]
          },
          "metadata": {},
          "execution_count": 3
        }
      ]
    },
    {
      "cell_type": "code",
      "execution_count": 4,
      "metadata": {
        "colab": {
          "base_uri": "https://localhost:8080/"
        },
        "id": "duEvQ1HkrBgJ",
        "outputId": "5e195fe6-aa93-42f6-9058-737cf9ca734e"
      },
      "outputs": [
        {
          "output_type": "stream",
          "name": "stdout",
          "text": [
            "+-------+------+---------+------+\n",
            "|movieId|rating|timestamp|userId|\n",
            "+-------+------+---------+------+\n",
            "|   1193|   5.0|978300760|     1|\n",
            "|    661|   3.0|978302109|     1|\n",
            "|    914|   3.0|978301968|     1|\n",
            "|   3408|   4.0|978300275|     1|\n",
            "|   2355|   5.0|978824291|     1|\n",
            "+-------+------+---------+------+\n",
            "only showing top 5 rows\n",
            "\n",
            "RMSE:  0.891689624277305\n",
            "+-------+------+---------+------+----------+\n",
            "|movieId|rating|timestamp|userId|prediction|\n",
            "+-------+------+---------+------+----------+\n",
            "|      1|   3.0|973969929|  2564| 4.0736675|\n",
            "|      1|   3.0|972882514|  2796| 3.1728563|\n",
            "|      1|   2.0|975730859|   980| 3.1530662|\n",
            "|      1|   3.0|974242794|  2418| 3.0192087|\n",
            "|      1|   3.0|970268071|  3036|  4.190822|\n",
            "|      1|   2.0|977530792|   136|  2.269647|\n",
            "|      1|   3.0|972055240|  2889| 4.4077973|\n",
            "|      1|   2.0|972785865|  2806| 3.1014705|\n",
            "|      1|   2.0|992133251|   151|   4.27976|\n",
            "|      1|   3.0|972931817|  3041| 3.4233935|\n",
            "+-------+------+---------+------+----------+\n",
            "only showing top 10 rows\n",
            "\n"
          ]
        }
      ],
      "source": [
        "from pyspark.ml.recommendation import ALS\n",
        "from pyspark.sql import SparkSession\n",
        "from pyspark.sql.functions import isnan, isnull\n",
        "\n",
        "spark = SparkSession.builder.getOrCreate()\n",
        "\n",
        "# Define the Rating class\n",
        "class Rating:\n",
        "    def __init__(self, userId, movieId, rating, timestamp):\n",
        "        self.userId = userId\n",
        "        self.movieId = movieId\n",
        "        self.rating = rating\n",
        "        self.timestamp = timestamp\n",
        "\n",
        "# Define the parseRating function\n",
        "def parseRating(str):\n",
        "    fields = str.split(\"::\")\n",
        "    assert len(fields) == 4\n",
        "    return Rating(int(fields[0]), int(fields[1]), float(fields[2]), int(fields[3]))\n",
        "\n",
        "# Test the parseRating function\n",
        "parseRating(\"1::1193::5::978300760\")\n",
        "\n",
        "# Load the raw data\n",
        "raw = spark.sparkContext.textFile(\"/content/drive/MyDrive/Kuliah/Semester 6/Big Data/ml-1m/ratings.dat\")\n",
        "\n",
        "# Check one record\n",
        "raw.take(1)\n",
        "\n",
        "# Parse the ratings and create a DataFrame\n",
        "ratings = raw.map(parseRating).toDF()\n",
        "\n",
        "# Check the ratings DataFrame\n",
        "ratings.show(5)\n",
        "\n",
        "# Split the data into training and test sets\n",
        "training, test = ratings.randomSplit([0.8, 0.2])\n",
        "\n",
        "# Build the recommendation model using ALS\n",
        "als = ALS(maxIter=5, regParam=0.01, userCol=\"userId\", itemCol=\"movieId\", ratingCol=\"rating\")\n",
        "model = als.fit(training)\n",
        "\n",
        "# Save the model\n",
        "model.save(\"mymodel\")\n",
        "\n",
        "# Generate predictions on the test set\n",
        "predictions = model.transform(test)\n",
        "\n",
        "# Calculate the root mean square error (RMSE)\n",
        "squared_error = predictions.withColumn(\"error\", (predictions[\"rating\"] - predictions[\"prediction\"])**2)\n",
        "\n",
        "\n",
        "valid_squared_error = squared_error.filter(~isnull(squared_error[\"error\"]) & ~isnan(squared_error[\"error\"]))\n",
        "\n",
        "rmse = valid_squared_error.select(\"error\").agg({\"error\": \"mean\"}).collect()[0][0] ** 0.5\n",
        "print(\"RMSE: \", rmse)\n",
        "\n",
        "# Show the first 10 predictions\n",
        "predictions.show(10)\n",
        "\n",
        "# Save the predictions as a CSV file\n",
        "predictions.select(\"userId\", \"movieId\", \"rating\", \"prediction\").write.csv(\"ml-predictions.csv\")"
      ]
    }
  ]
}